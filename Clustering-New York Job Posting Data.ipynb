{
 "cells": [
  {
   "cell_type": "markdown",
   "metadata": {},
   "source": [
    "# IDS Assignment 1\n",
    "\n",
    "This is a Jupyter Notebook created for the analysis on the given dataset for the IDS assignment #1. The assignment is done collaborately by the group of 4 members. The details are as follows,\n",
    "\n",
    "Group ID : `IDS_GROUP006`\n",
    "\n",
    "Group Members: \n",
    "    1. Venkataramanan K\n",
    "    2. Bala Kavin Pon\n",
    "    3. Ponvani\n",
    "    4. Poornima J\n",
    "\n",
    "\n",
    "## Problem statement \n",
    "\n",
    "\n",
    "**Business Context**\n",
    "\n",
    "Using the given data set for New York City Current Job Posting data.\n",
    " \n",
    "**Business Problem Understanding**\n",
    "\n",
    "Focus on applying the learnt data analytics concepts and try to share your findings on following aspects:\n",
    "1.\tWhat are the highest paid Skills in the US market?\n",
    "2.\tWhat are the job categories, which involve above mentioned niche skills?\n",
    "3.\tApplying clustering concepts, please depict visually what are the different salary ranges based on job category and years of experience\n",
    "\n",
    "The analysis on the data is done in the following sequence of steps. "
   ]
  },
  {
   "cell_type": "markdown",
   "metadata": {},
   "source": [
    "## Step0: Import libraries"
   ]
  },
  {
   "cell_type": "code",
   "execution_count": 4,
   "metadata": {},
   "outputs": [],
   "source": [
    "import pandas as pd\n",
    "import numpy as np\n",
    "import matplotlib.pyplot as plt\n",
    "import seaborn\n",
    "\n",
    "%matplotlib inline"
   ]
  },
  {
   "cell_type": "markdown",
   "metadata": {},
   "source": [
    "## Step1: Data Preparation\n",
    "\n",
    "### Loading a data from file\n"
   ]
  },
  {
   "cell_type": "code",
   "execution_count": 11,
   "metadata": {},
   "outputs": [],
   "source": [
    "# Reading data from the CSV file\n",
    "job_data = pd.read_csv(\"input/jobs.csv\", delimiter=\",\")\n"
   ]
  },
  {
   "cell_type": "markdown",
   "metadata": {},
   "source": [
    "### Descriptive Analysis"
   ]
  },
  {
   "cell_type": "code",
   "execution_count": 15,
   "metadata": {},
   "outputs": [
    {
     "name": "stdout",
     "output_type": "stream",
     "text": [
      "<class 'pandas.core.frame.DataFrame'>\n",
      "RangeIndex: 3020 entries, 0 to 3019\n",
      "Data columns (total 28 columns):\n",
      "Job ID                           3020 non-null int64\n",
      "Agency                           3020 non-null object\n",
      "Posting Type                     3020 non-null object\n",
      "# Of Positions                   3020 non-null int64\n",
      "Business Title                   3020 non-null object\n",
      "Civil Service Title              3020 non-null object\n",
      "Title Code No                    3020 non-null object\n",
      "Level                            3020 non-null object\n",
      "Job Category                     3018 non-null object\n",
      "Full-Time/Part-Time indicator    2811 non-null object\n",
      "Salary Range From                3020 non-null float64\n",
      "Salary Range To                  3020 non-null float64\n",
      "Salary Frequency                 3020 non-null object\n",
      "Work Location                    3020 non-null object\n",
      "Division/Work Unit               3020 non-null object\n",
      "Job Description                  3020 non-null object\n",
      "Minimum Qual Requirements        3004 non-null object\n",
      "Preferred Skills                 2581 non-null object\n",
      "Additional Information           1840 non-null object\n",
      "To Apply                         3019 non-null object\n",
      "Hours/Shift                      923 non-null object\n",
      "Work Location 1                  1422 non-null object\n",
      "Recruitment Contact              0 non-null float64\n",
      "Residency Requirement            3018 non-null object\n",
      "Posting Date                     3018 non-null object\n",
      "Post Until                       972 non-null object\n",
      "Posting Updated                  3018 non-null object\n",
      "Process Date                     3018 non-null object\n",
      "dtypes: float64(3), int64(2), object(23)\n",
      "memory usage: 660.8+ KB\n",
      "------------------------------------------------------------------------------------------------------------------------\n"
     ]
    },
    {
     "data": {
      "text/html": [
       "<div>\n",
       "<style scoped>\n",
       "    .dataframe tbody tr th:only-of-type {\n",
       "        vertical-align: middle;\n",
       "    }\n",
       "\n",
       "    .dataframe tbody tr th {\n",
       "        vertical-align: top;\n",
       "    }\n",
       "\n",
       "    .dataframe thead th {\n",
       "        text-align: right;\n",
       "    }\n",
       "</style>\n",
       "<table border=\"1\" class=\"dataframe\">\n",
       "  <thead>\n",
       "    <tr style=\"text-align: right;\">\n",
       "      <th></th>\n",
       "      <th>Job ID</th>\n",
       "      <th># Of Positions</th>\n",
       "      <th>Salary Range From</th>\n",
       "      <th>Salary Range To</th>\n",
       "      <th>Recruitment Contact</th>\n",
       "    </tr>\n",
       "  </thead>\n",
       "  <tbody>\n",
       "    <tr>\n",
       "      <th>count</th>\n",
       "      <td>3020.000000</td>\n",
       "      <td>3020.000000</td>\n",
       "      <td>3020.000000</td>\n",
       "      <td>3020.000000</td>\n",
       "      <td>0.0</td>\n",
       "    </tr>\n",
       "    <tr>\n",
       "      <th>mean</th>\n",
       "      <td>383678.501987</td>\n",
       "      <td>2.424172</td>\n",
       "      <td>58140.495550</td>\n",
       "      <td>84325.707875</td>\n",
       "      <td>NaN</td>\n",
       "    </tr>\n",
       "    <tr>\n",
       "      <th>std</th>\n",
       "      <td>51779.379258</td>\n",
       "      <td>8.149189</td>\n",
       "      <td>26806.810446</td>\n",
       "      <td>43186.883961</td>\n",
       "      <td>NaN</td>\n",
       "    </tr>\n",
       "    <tr>\n",
       "      <th>min</th>\n",
       "      <td>87990.000000</td>\n",
       "      <td>1.000000</td>\n",
       "      <td>0.000000</td>\n",
       "      <td>10.360000</td>\n",
       "      <td>NaN</td>\n",
       "    </tr>\n",
       "    <tr>\n",
       "      <th>25%</th>\n",
       "      <td>378264.750000</td>\n",
       "      <td>1.000000</td>\n",
       "      <td>48535.000000</td>\n",
       "      <td>60990.000000</td>\n",
       "      <td>NaN</td>\n",
       "    </tr>\n",
       "    <tr>\n",
       "      <th>50%</th>\n",
       "      <td>402960.500000</td>\n",
       "      <td>1.000000</td>\n",
       "      <td>57944.000000</td>\n",
       "      <td>81535.000000</td>\n",
       "      <td>NaN</td>\n",
       "    </tr>\n",
       "    <tr>\n",
       "      <th>75%</th>\n",
       "      <td>415741.000000</td>\n",
       "      <td>1.000000</td>\n",
       "      <td>72476.000000</td>\n",
       "      <td>105000.000000</td>\n",
       "      <td>NaN</td>\n",
       "    </tr>\n",
       "    <tr>\n",
       "      <th>max</th>\n",
       "      <td>424117.000000</td>\n",
       "      <td>190.000000</td>\n",
       "      <td>218587.000000</td>\n",
       "      <td>234402.000000</td>\n",
       "      <td>NaN</td>\n",
       "    </tr>\n",
       "  </tbody>\n",
       "</table>\n",
       "</div>"
      ],
      "text/plain": [
       "              Job ID  # Of Positions  Salary Range From  Salary Range To  \\\n",
       "count    3020.000000     3020.000000        3020.000000      3020.000000   \n",
       "mean   383678.501987        2.424172       58140.495550     84325.707875   \n",
       "std     51779.379258        8.149189       26806.810446     43186.883961   \n",
       "min     87990.000000        1.000000           0.000000        10.360000   \n",
       "25%    378264.750000        1.000000       48535.000000     60990.000000   \n",
       "50%    402960.500000        1.000000       57944.000000     81535.000000   \n",
       "75%    415741.000000        1.000000       72476.000000    105000.000000   \n",
       "max    424117.000000      190.000000      218587.000000    234402.000000   \n",
       "\n",
       "       Recruitment Contact  \n",
       "count                  0.0  \n",
       "mean                   NaN  \n",
       "std                    NaN  \n",
       "min                    NaN  \n",
       "25%                    NaN  \n",
       "50%                    NaN  \n",
       "75%                    NaN  \n",
       "max                    NaN  "
      ]
     },
     "execution_count": 15,
     "metadata": {},
     "output_type": "execute_result"
    }
   ],
   "source": [
    "job_data.info()\n",
    "print(\"---\"*40)\n",
    "job_data.describe()"
   ]
  },
  {
   "cell_type": "markdown",
   "metadata": {},
   "source": [
    "Checking whether there are any missing values in the given dataset using `isnull()` method."
   ]
  },
  {
   "cell_type": "code",
   "execution_count": 13,
   "metadata": {},
   "outputs": [
    {
     "data": {
      "text/plain": [
       "Job ID                              0\n",
       "Agency                              0\n",
       "Posting Type                        0\n",
       "# Of Positions                      0\n",
       "Business Title                      0\n",
       "Civil Service Title                 0\n",
       "Title Code No                       0\n",
       "Level                               0\n",
       "Job Category                        2\n",
       "Full-Time/Part-Time indicator     209\n",
       "Salary Range From                   0\n",
       "Salary Range To                     0\n",
       "Salary Frequency                    0\n",
       "Work Location                       0\n",
       "Division/Work Unit                  0\n",
       "Job Description                     0\n",
       "Minimum Qual Requirements          16\n",
       "Preferred Skills                  439\n",
       "Additional Information           1180\n",
       "To Apply                            1\n",
       "Hours/Shift                      2097\n",
       "Work Location 1                  1598\n",
       "Recruitment Contact              3020\n",
       "Residency Requirement               2\n",
       "Posting Date                        2\n",
       "Post Until                       2048\n",
       "Posting Updated                     2\n",
       "Process Date                        2\n",
       "dtype: int64"
      ]
     },
     "execution_count": 13,
     "metadata": {},
     "output_type": "execute_result"
    }
   ],
   "source": [
    "job_data.isnull().sum()"
   ]
  },
  {
   "cell_type": "code",
   "execution_count": null,
   "metadata": {},
   "outputs": [],
   "source": []
  }
 ],
 "metadata": {
  "kernelspec": {
   "display_name": "dsenv",
   "language": "python",
   "name": "dsenv"
  },
  "language_info": {
   "codemirror_mode": {
    "name": "ipython",
    "version": 3
   },
   "file_extension": ".py",
   "mimetype": "text/x-python",
   "name": "python",
   "nbconvert_exporter": "python",
   "pygments_lexer": "ipython3",
   "version": "3.7.5"
  }
 },
 "nbformat": 4,
 "nbformat_minor": 2
}
